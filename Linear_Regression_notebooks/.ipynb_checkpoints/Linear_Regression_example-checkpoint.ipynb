{
 "cells": [
  {
   "cell_type": "markdown",
   "metadata": {},
   "source": [
    "### Linear Regression example"
   ]
  },
  {
   "cell_type": "code",
   "execution_count": 1,
   "metadata": {},
   "outputs": [],
   "source": [
    "from pyspark.sql import SparkSession"
   ]
  },
  {
   "cell_type": "code",
   "execution_count": 2,
   "metadata": {},
   "outputs": [],
   "source": [
    "spark = SparkSession.builder.appName('lrex').getOrCreate()"
   ]
  },
  {
   "cell_type": "code",
   "execution_count": 3,
   "metadata": {},
   "outputs": [],
   "source": [
    "from pyspark.ml.regression import LinearRegression"
   ]
  },
  {
   "cell_type": "code",
   "execution_count": 26,
   "metadata": {},
   "outputs": [],
   "source": [
    "path = 'original/Python-and-Spark-for-Big-Data-master/Spark_for_Machine_Learning/Linear_Regression/sample_linear_regression_data.txt'"
   ]
  },
  {
   "cell_type": "code",
   "execution_count": 15,
   "metadata": {},
   "outputs": [],
   "source": [
    "all_data = spark.read.format('libsvm').load(path)"
   ]
  },
  {
   "cell_type": "code",
   "execution_count": 16,
   "metadata": {},
   "outputs": [],
   "source": [
    "train, test = all_data.randomSplit([0.7, 0.3])"
   ]
  },
  {
   "cell_type": "code",
   "execution_count": 18,
   "metadata": {},
   "outputs": [
    {
     "name": "stdout",
     "output_type": "stream",
     "text": [
      "+-------+-------------------+\n",
      "|summary|              label|\n",
      "+-------+-------------------+\n",
      "|  count|                361|\n",
      "|   mean| 0.1139303771298978|\n",
      "| stddev| 10.651183799883245|\n",
      "|    min|-28.571478869743427|\n",
      "|    max|  27.78383192005107|\n",
      "+-------+-------------------+\n",
      "\n"
     ]
    }
   ],
   "source": [
    "train.describe().show()"
   ]
  },
  {
   "cell_type": "code",
   "execution_count": 19,
   "metadata": {},
   "outputs": [
    {
     "name": "stdout",
     "output_type": "stream",
     "text": [
      "+-------+-------------------+\n",
      "|summary|              label|\n",
      "+-------+-------------------+\n",
      "|  count|                140|\n",
      "|   mean| 0.6255173841128349|\n",
      "| stddev|  9.430467068968005|\n",
      "|    min|-20.057482615789212|\n",
      "|    max| 20.358241877831016|\n",
      "+-------+-------------------+\n",
      "\n"
     ]
    }
   ],
   "source": [
    "test.describe().show()"
   ]
  },
  {
   "cell_type": "code",
   "execution_count": 20,
   "metadata": {},
   "outputs": [],
   "source": [
    "model = lr.fit(train)"
   ]
  },
  {
   "cell_type": "code",
   "execution_count": 22,
   "metadata": {},
   "outputs": [],
   "source": [
    "test_results = model.evaluate(test)"
   ]
  },
  {
   "cell_type": "code",
   "execution_count": 23,
   "metadata": {},
   "outputs": [
    {
     "data": {
      "text/plain": [
       "9.329821153675535"
      ]
     },
     "execution_count": 23,
     "metadata": {},
     "output_type": "execute_result"
    }
   ],
   "source": [
    "test_results.rootMeanSquaredError"
   ]
  },
  {
   "cell_type": "code",
   "execution_count": 24,
   "metadata": {},
   "outputs": [],
   "source": [
    "unlabeled_data = test.select('features')"
   ]
  },
  {
   "cell_type": "code",
   "execution_count": 25,
   "metadata": {},
   "outputs": [
    {
     "name": "stdout",
     "output_type": "stream",
     "text": [
      "+--------------------+--------------------+\n",
      "|            features|          prediction|\n",
      "+--------------------+--------------------+\n",
      "|(10,[0,1,2,3,4,5,...|  0.9014861014777886|\n",
      "|(10,[0,1,2,3,4,5,...| 0.32930160499772443|\n",
      "|(10,[0,1,2,3,4,5,...|  0.6540686771895725|\n",
      "|(10,[0,1,2,3,4,5,...|  0.6608114940476176|\n",
      "|(10,[0,1,2,3,4,5,...|-0.49585475440781857|\n",
      "|(10,[0,1,2,3,4,5,...| -0.9887887832275066|\n",
      "|(10,[0,1,2,3,4,5,...|  1.0782363077664068|\n",
      "|(10,[0,1,2,3,4,5,...| -0.6921768181477033|\n",
      "|(10,[0,1,2,3,4,5,...| -3.6063861367143044|\n",
      "|(10,[0,1,2,3,4,5,...|-0.26188544910628403|\n",
      "|(10,[0,1,2,3,4,5,...|  -1.389948846140097|\n",
      "|(10,[0,1,2,3,4,5,...|-0.16819931983179612|\n",
      "|(10,[0,1,2,3,4,5,...|-0.49764768879838683|\n",
      "|(10,[0,1,2,3,4,5,...| -1.6876952521657813|\n",
      "|(10,[0,1,2,3,4,5,...|  0.1898507969417004|\n",
      "|(10,[0,1,2,3,4,5,...| -0.6856707741621311|\n",
      "|(10,[0,1,2,3,4,5,...|   2.304623272425991|\n",
      "|(10,[0,1,2,3,4,5,...| -1.2196556032617185|\n",
      "|(10,[0,1,2,3,4,5,...| -0.7197228884260477|\n",
      "|(10,[0,1,2,3,4,5,...|   0.576373752631806|\n",
      "+--------------------+--------------------+\n",
      "only showing top 20 rows\n",
      "\n"
     ]
    }
   ],
   "source": [
    "predictions = model.transform(unlabeled_data)\n",
    "predictions.show()"
   ]
  }
 ],
 "metadata": {
  "kernelspec": {
   "display_name": "Python 3",
   "language": "python",
   "name": "python3"
  },
  "language_info": {
   "codemirror_mode": {
    "name": "ipython",
    "version": 3
   },
   "file_extension": ".py",
   "mimetype": "text/x-python",
   "name": "python",
   "nbconvert_exporter": "python",
   "pygments_lexer": "ipython3",
   "version": "3.7.6"
  }
 },
 "nbformat": 4,
 "nbformat_minor": 4
}
